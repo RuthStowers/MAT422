{
  "nbformat": 4,
  "nbformat_minor": 0,
  "metadata": {
    "colab": {
      "provenance": [],
      "include_colab_link": true
    },
    "kernelspec": {
      "name": "python3",
      "display_name": "Python 3"
    },
    "language_info": {
      "name": "python"
    }
  },
  "cells": [
    {
      "cell_type": "markdown",
      "metadata": {
        "id": "view-in-github",
        "colab_type": "text"
      },
      "source": [
        "<a href=\"https://colab.research.google.com/github/RuthStowers/MAT422/blob/main/Homework_1.3_Linear_Regression.ipynb\" target=\"_parent\"><img src=\"https://colab.research.google.com/assets/colab-badge.svg\" alt=\"Open In Colab\"/></a>"
      ]
    },
    {
      "cell_type": "markdown",
      "metadata": {
        "id": "Te1qp7LWvM8V"
      },
      "source": [
        "# Chapter 1.3 - Linear Regression\n",
        "\n",
        "\n",
        "---\n",
        "\n"
      ]
    },
    {
      "cell_type": "markdown",
      "metadata": {
        "id": "fj0YbBesvf4A"
      },
      "source": [
        "# 1.3.1 QR Decomposition\n",
        "QR decomposition is a useful procedure to solve the linear least squares\n",
        "problem. QR factorization takes the general form $A = QR$ where $Q$ is the product of the Gram-Schmidt process, and $R$ is an upper triangular matrix as follows."
      ]
    },
    {
      "cell_type": "code",
      "metadata": {
        "id": "ZBZofZV312JS"
      },
      "source": [
        "import numpy as np"
      ],
      "execution_count": 1,
      "outputs": []
    },
    {
      "cell_type": "code",
      "metadata": {
        "colab": {
          "base_uri": "https://localhost:8080/"
        },
        "id": "tHrfDPe7DizX",
        "outputId": "6dbe0888-4fb7-4461-ad2a-61e782503dc1"
      },
      "source": [
        "A = np.random.randint(10, size = (3, 3))\n",
        "q, r = np.linalg.qr(A)\n",
        "print('A: \\n', A, '\\n')\n",
        "print('Q: \\n', q, '\\n')\n",
        "print('R: \\n', r, '\\n')"
      ],
      "execution_count": 3,
      "outputs": [
        {
          "output_type": "stream",
          "name": "stdout",
          "text": [
            "A: \n",
            " [[2 2 8]\n",
            " [8 0 8]\n",
            " [7 2 9]] \n",
            "\n",
            "Q: \n",
            " [[-0.18490007  0.73994007 -0.64676167]\n",
            " [-0.73960026 -0.53813824 -0.40422604]\n",
            " [-0.64715023  0.40360368  0.64676167]] \n",
            "\n",
            "R: \n",
            " [[-10.81665383  -1.66410059 -13.22035468]\n",
            " [  0.           2.2870875    5.24684779]\n",
            " [  0.           0.          -2.58704667]] \n",
            "\n"
          ]
        }
      ]
    },
    {
      "cell_type": "code",
      "metadata": {
        "colab": {
          "base_uri": "https://localhost:8080/"
        },
        "id": "e6_ROJpOEtVo",
        "outputId": "33ee2b9e-dcb1-4ec6-9469-27bda9a354aa"
      },
      "source": [
        "p = (np.matmul(q, r))\n",
        "print(p, '\\n')\n",
        "print(A)\n"
      ],
      "execution_count": 4,
      "outputs": [
        {
          "output_type": "stream",
          "name": "stdout",
          "text": [
            "[[ 2.00000000e+00  2.00000000e+00  8.00000000e+00]\n",
            " [ 8.00000000e+00 -7.42777761e-16  8.00000000e+00]\n",
            " [ 7.00000000e+00  2.00000000e+00  9.00000000e+00]] \n",
            "\n",
            "[[2 2 8]\n",
            " [8 0 8]\n",
            " [7 2 9]]\n"
          ]
        }
      ]
    },
    {
      "cell_type": "markdown",
      "metadata": {
        "id": "xsEl1R6VGxPt"
      },
      "source": [
        "As you can see from the above code, $Q$ dotted with $R$ gives us back $A$.\n",
        "\n"
      ]
    },
    {
      "cell_type": "markdown",
      "metadata": {
        "id": "QzwrMTu2G-2m"
      },
      "source": [
        "# 1.3.2 Least-squares Problems\n",
        "We are trying to solve for the system $Ax = b$ where $A$ is an $n$ x $m$ matrix and $n > m$. If $n = m$, then we could just find the matrix inverse.\n",
        "Instead, we find an $Ax$ such that we minimize $\\|Ax-b\\|$."
      ]
    },
    {
      "cell_type": "code",
      "metadata": {
        "colab": {
          "base_uri": "https://localhost:8080/"
        },
        "id": "7ofhHJ6dSImK",
        "outputId": "99eda48d-a90c-413a-ba6f-e0e8d102787a"
      },
      "source": [
        "b = np.random.randint(10, size = (3, 1))\n",
        "x = np.matmul(np.matmul(np.linalg.inv(r),np.transpose(q)), b)\n",
        "Ax = np.matmul(A, x)\n",
        "print('solution vector: \\n', x, '\\n')\n",
        "print('b: \\n', b, '\\n')\n",
        "print('Ax: \\n', Ax, '\\n')\n"
      ],
      "execution_count": 5,
      "outputs": [
        {
          "output_type": "stream",
          "name": "stdout",
          "text": [
            "solution vector: \n",
            " [[-0.75]\n",
            " [-0.75]\n",
            " [ 0.75]] \n",
            "\n",
            "b: \n",
            " [[3]\n",
            " [0]\n",
            " [0]] \n",
            "\n",
            "Ax: \n",
            " [[3.]\n",
            " [0.]\n",
            " [0.]] \n",
            "\n"
          ]
        }
      ]
    },
    {
      "cell_type": "markdown",
      "metadata": {
        "id": "hXWJovR4WRyd"
      },
      "source": [
        "As you can see from the above code, we generate a random $b$ vector and use the random $A, Q, R$ values from the previous QR decomposition example. $Ax$ should give a close approximation to $b$."
      ]
    },
    {
      "cell_type": "markdown",
      "metadata": {
        "id": "tAkUfaY2XQKs"
      },
      "source": [
        "# 1.3.3 Linear Regression\n",
        "Linear regression seeks to find an affine function to fit a data set as closely as possible. This is a minimization problem and when looked at in matrix form, is the exact same as the least-squares problem. Linear Regression is often used as a method of statistical analysis."
      ]
    },
    {
      "cell_type": "code",
      "source": [
        "print(__doc__)\n",
        "\n",
        "\n",
        "# Code source: Jaques Grobler\n",
        "# link: https://scikit-learn.org/stable/auto_examples/linear_model/plot_ols.html\n",
        "# License: BSD 3 clause\n",
        "\n",
        "\n",
        "import matplotlib.pyplot as plt\n",
        "import numpy as np\n",
        "from sklearn import datasets, linear_model\n",
        "from sklearn.metrics import mean_squared_error, r2_score\n",
        "\n",
        "# Load the diabetes dataset\n",
        "diabetes_X, diabetes_y = datasets.load_diabetes(return_X_y=True)\n",
        "\n",
        "# Use only one feature\n",
        "diabetes_X = diabetes_X[:, np.newaxis, 2]\n",
        "\n",
        "# Split the data into training/testing sets\n",
        "diabetes_X_train = diabetes_X[:-20]\n",
        "diabetes_X_test = diabetes_X[-20:]\n",
        "\n",
        "# Split the targets into training/testing sets\n",
        "diabetes_y_train = diabetes_y[:-20]\n",
        "diabetes_y_test = diabetes_y[-20:]\n",
        "\n",
        "# Create linear regression object\n",
        "regr = linear_model.LinearRegression()\n",
        "\n",
        "# Train the model using the training sets\n",
        "regr.fit(diabetes_X_train, diabetes_y_train)\n",
        "\n",
        "# Make predictions using the testing set\n",
        "diabetes_y_pred = regr.predict(diabetes_X_test)\n",
        "\n",
        "# The coefficients\n",
        "print('Coefficients: \\n', regr.coef_)\n",
        "# The mean squared error\n",
        "print('Mean squared error: %.2f'\n",
        "      % mean_squared_error(diabetes_y_test, diabetes_y_pred))\n",
        "# The coefficient of determination: 1 is perfect prediction\n",
        "print('Coefficient of determination: %.2f'\n",
        "      % r2_score(diabetes_y_test, diabetes_y_pred))\n",
        "\n",
        "# Plot outputs\n",
        "plt.scatter(diabetes_X_test, diabetes_y_test,  color='black')\n",
        "plt.plot(diabetes_X_test, diabetes_y_pred, color='red', linewidth=1)\n",
        "\n",
        "plt.xticks(())\n",
        "plt.yticks(())\n",
        "\n",
        "plt.show()"
      ],
      "metadata": {
        "colab": {
          "base_uri": "https://localhost:8080/",
          "height": 497
        },
        "id": "Nwxt8Gg9SSxL",
        "outputId": "0a4cbf93-e10d-4854-b46f-bab2e8a6026c"
      },
      "execution_count": 7,
      "outputs": [
        {
          "output_type": "stream",
          "name": "stdout",
          "text": [
            "Automatically created module for IPython interactive environment\n",
            "Coefficients: \n",
            " [938.23786125]\n",
            "Mean squared error: 2548.07\n",
            "Coefficient of determination: 0.47\n"
          ]
        },
        {
          "output_type": "display_data",
          "data": {
            "text/plain": [
              "<Figure size 640x480 with 1 Axes>"
            ],
            "image/png": "[encoded data removed]"
          },
          "metadata": {}
        }
      ]
    }
  ]
}
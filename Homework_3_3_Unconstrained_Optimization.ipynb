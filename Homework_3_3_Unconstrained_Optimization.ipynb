{
  "nbformat": 4,
  "nbformat_minor": 0,
  "metadata": {
    "colab": {
      "provenance": [],
      "include_colab_link": true
    },
    "kernelspec": {
      "name": "python3",
      "display_name": "Python 3"
    },
    "language_info": {
      "name": "python"
    }
  },
  "cells": [
    {
      "cell_type": "markdown",
      "metadata": {
        "id": "view-in-github",
        "colab_type": "text"
      },
      "source": [
        "<a href=\"https://colab.research.google.com/github/RuthStowers/MAT422/blob/main/Homework_3_3_Unconstrained_Optimization.ipynb\" target=\"_parent\"><img src=\"https://colab.research.google.com/assets/colab-badge.svg\" alt=\"Open In Colab\"/></a>"
      ]
    },
    {
      "cell_type": "markdown",
      "source": [
        "# Homework 3.3: Unconstrained Optimization\n",
        "\n",
        "**3.3.1 Necessary and Suﬀicent Conditions of Local Minimizers**\n",
        "\n",
        "**Definition 3.3.1 (Global minimizer)**:\n",
        "\n",
        "Let $f : \\mathbb{R}^d\\to\\mathbb{R}$. The point $\\textbf{x}^*\\in\\mathbb{ R}^d$\n",
        "is a global minimizer of $f$ over $\\mathbb{R}^d$ if\n",
        "$$f(\\textbf{x}) \\geq f(\\textbf{x}^*), \\forall \\textbf{x} \\in \\mathbb{ R}^d.$$\n",
        "\n",
        "**Definition 3.3.2 (Local minimizer):**\n",
        "\n",
        "Let $f : \\mathbb{R}^d\\to\\mathbb{R}$. The point $\\textbf{x}^*\\in\\mathbb{ R}^d$\n",
        "is a global minimizer of $f$ over $\\mathbb{R}^d$ if there is $\\delta >0$ such that\n",
        "$$f(\\textbf{x})\\geq f(\\textbf{x}^*), \\forall \\textbf{x}\\in B_\\delta(\\textbf{x}^*)\\backslash \\{\\textbf{x}^*\\}.$$\n",
        "If the inequality is strict, we say that $\\textbf{x}^*$ is a strict local minimizer.\n",
        "\n",
        "\n",
        "\n"
      ],
      "metadata": {
        "id": "oDM4aRzoBdmX"
      }
    },
    {
      "cell_type": "code",
      "source": [
        "import numpy as np\n",
        "\n",
        "x = np.arange(-5, 5, 0.1)\n",
        "def f(x):\n",
        "    return x**4 - 8*x**2 + 4*x + 2\n",
        "\n",
        "# How to find Global Minumum\n",
        "from scipy import optimize\n",
        "grid = (-5, 5, 0.1)\n",
        "xmin_global = optimize.brute(f, (grid, ))\n",
        "print(\"Global minima found %s\" % xmin_global)\n",
        "\n",
        "# How to find Local Minumum\n",
        "# Find the 1st Derivative\n",
        "import sympy as sym\n",
        "x = sym.symbols('x')\n",
        "first = sym.diff(x**4 - 8*x**2 + 4*x + 2, x)\n",
        "print('1st derivative: ', first)\n",
        "\n",
        "# Find the Roots of the 1st Derivative\n",
        "# Type Coefficients\n",
        "p = [4, 0, -16, 4]\n",
        "roots = np.roots(p)\n",
        "print('Roots of 1st Derivative', roots)\n",
        "\n",
        "# Restrict the domain\n",
        "xmin_local = optimize.fminbound(f, 0, 5)\n",
        "print(\"Local minimum found %s\" % xmin_local)\n"
      ],
      "metadata": {
        "colab": {
          "base_uri": "https://localhost:8080/"
        },
        "id": "bN_deaQVDplG",
        "outputId": "f8f4da4e-d1bc-4ae6-e137-242420ad529d"
      },
      "execution_count": 1,
      "outputs": [
        {
          "output_type": "stream",
          "name": "stdout",
          "text": [
            "Global minima found [-2.11491943]\n",
            "1st derivative:  4*x**3 - 16*x + 4\n",
            "Roots of 1st Derivative [-2.11490754  1.86080585  0.25410169]\n",
            "Local minimum found 1.8608054464313526\n"
          ]
        }
      ]
    },
    {
      "cell_type": "code",
      "source": [
        "import numpy as np\n",
        "\n",
        "x = np.arange(-5, 5, 0.1)\n",
        "def f(x):\n",
        "    return x**4 - 8*x**2 + 4*x + 2\n",
        "\n",
        "import matplotlib.pyplot as plt\n",
        "fig = plt.figure(figsize=(6, 4))\n",
        "ax = fig.add_subplot(111)\n",
        "\n",
        "# Plot the function\n",
        "ax.plot(x, f(x), 'b-', label=\"f(x)\")\n",
        "\n",
        "# How to adjust the y-axis and x-axis\n",
        "plt.ylim([-25, 10])\n",
        "plt.xlim([-5, 5])\n",
        "\n",
        "# Plot the minima\n",
        "xmins = np.array([xmin_global[0], xmin_local])\n",
        "ax.plot(xmins, f(xmins), 'go', label=\"Minima\")\n",
        "\n",
        "# Decorate the figure\n",
        "ax.legend(loc='best')\n",
        "ax.set_xlabel('x')\n",
        "ax.set_ylabel('f(x)')\n",
        "ax.axhline(0, color='gray')"
      ],
      "metadata": {
        "colab": {
          "base_uri": "https://localhost:8080/",
          "height": 411
        },
        "id": "WrRBKZxEVyCg",
        "outputId": "9075c1ca-7a46-43e6-f2cd-392f6abe881f"
      },
      "execution_count": 7,
      "outputs": [
        {
          "output_type": "stream",
          "name": "stdout",
          "text": [
            "Global minima found [-2.11491943]\n"
          ]
        },
        {
          "output_type": "display_data",
          "data": {
            "text/plain": [
              "<Figure size 600x400 with 1 Axes>"
            ],
            "image/png": "[encoded data removed]"
          },
          "metadata": {}
        }
      ]
    },
    {
      "cell_type": "markdown",
      "source": [
        "**3.3.2 Convexity and Global Minimizers**\n",
        "\n",
        "A real-valued function is called convex if the line segment between any two\n",
        "points on the graph of the function lies above the graph between the two\n",
        "points.\n",
        "\n",
        "*Example 1:*\n",
        "A twice-differentiable function of is convex iff its 2nd derivative is nonnegative on its entire domain."
      ],
      "metadata": {
        "id": "ZxXeK7fZ1S0K"
      }
    },
    {
      "cell_type": "code",
      "source": [
        "# How to determine Convexity\n",
        "# A twice-differentiable function of is convex iff its 2nd derivative is nonnegative on its entire domain.\n",
        "import numpy as np\n",
        "\n",
        "x = np.arange(-5, 5, 0.1)\n",
        "def f(x):\n",
        "    return x**4 - 8*x**2 + 4*x + 2\n",
        "\n",
        "import sympy as sym\n",
        "x = sym.symbols('x')\n",
        "first = sym.diff(x**4 - 8*x**2 + 4*x + 2, x)\n",
        "print('1st derivative: ', first)\n",
        "\n",
        "second = sym.diff(x**4 - 8*x**2 + 4*x + 2, x, 2)\n",
        "print('2nd derivative: ', second)\n",
        "\n",
        "# Graph the 2nd Derivative\n",
        "import matplotlib.pyplot as plt\n",
        "x = np.arange(-3.5, 3.5, 0.1)\n",
        "y = 4*(3*x**2 - 4)\n",
        "\n",
        "plt.ylim([-20, 10])\n",
        "plt.xlim([-3, 3])\n",
        "\n",
        "plt.plot(x,y)\n",
        "plt.show()\n",
        "print(\"This function is not convex, because of it's negative values.\")"
      ],
      "metadata": {
        "colab": {
          "base_uri": "https://localhost:8080/",
          "height": 321
        },
        "id": "Ht0it7NAXDeI",
        "outputId": "47396732-42f7-4b92-f7b0-467f55475654"
      },
      "execution_count": null,
      "outputs": [
        {
          "output_type": "stream",
          "name": "stdout",
          "text": [
            "1st derivative:  4*x**3 - 16*x + 4\n",
            "2nd derivative:  4*(3*x**2 - 4)\n"
          ]
        },
        {
          "output_type": "display_data",
          "data": {
            "text/plain": [
              "<Figure size 432x288 with 1 Axes>"
            ],
            "image/png": "[encoded data removed]"
          },
          "metadata": {
            "needs_background": "light"
          }
        },
        {
          "output_type": "stream",
          "name": "stdout",
          "text": [
            "This function is not convex, because of it's negative values.\n"
          ]
        }
      ]
    },
    {
      "cell_type": "markdown",
      "source": [
        "**3.3.2.2 Global Minimizers of Convex Functions**\n",
        "\n",
        "**Theorem 3.3.18**\n",
        "\n",
        "Let  $f : \\mathbb{R}^d\\to\\mathbb{R}$ be a continuously differentiable, convex function. If $\\nabla f(\\textbf{x}_0) = 0$ then $\\textbf{x}_0$ is a global minimizer.\n",
        "\n",
        "**Theorem 3.3.19** (Global Minimizers of Convex Functions):\n",
        "\n",
        "Let  $f : \\mathbb{R}^d\\to\\mathbb{R}$ be a convex function. Then any local minimizer of $f$ is also a global minimizer."
      ],
      "metadata": {
        "id": "DhW3sHzf2Kkg"
      }
    },
    {
      "cell_type": "code",
      "source": [
        "def f(x):   # The rosenbrock function\n",
        "  return .5*(1 - x[0])**2 + (x[1] - x[0]**2)**2\n",
        "optimize.brute(f, ((-1, 2), (-1, 2)))"
      ],
      "metadata": {
        "colab": {
          "base_uri": "https://localhost:8080/"
        },
        "id": "2e3f4Lk22l1X",
        "outputId": "bef02a25-dd30-4765-ce0c-508af28d183b"
      },
      "execution_count": 14,
      "outputs": [
        {
          "output_type": "execute_result",
          "data": {
            "text/plain": [
              "array([1.00001462, 1.00001547])"
            ]
          },
          "metadata": {},
          "execution_count": 14
        }
      ]
    },
    {
      "cell_type": "markdown",
      "source": [
        "**3.3.3 Gradient Descent**\n",
        "\n",
        "Gradient descent is an iterative optimization algorithm for finding a local\n",
        "minimum of a differentiable function.\n",
        "\n",
        "*Example 2*: Finding the gradient descent in one dimension."
      ],
      "metadata": {
        "id": "MqKSeDDa2u16"
      }
    },
    {
      "cell_type": "code",
      "source": [
        "import matplotlib.pyplot as plt\n",
        "import numpy as np\n",
        "import numpy.linalg as npl\n",
        "x = np.linspace(-5,5,100)\n",
        "y = x ** 2 + 1\n",
        "plt.grid()\n",
        "plt.plot(x,y)\n",
        "plt.show()\n",
        "\n",
        "def grad_1d(x):\n",
        "    return x * 2\n",
        "\n",
        "def gradient_descent_1d(grad, cur_x=0.1, learning_rate=0.01, precision=0.0001, max_iters=10000):\n",
        "    \"\"\"\n",
        "    :param grad:           The gradient of the objective function\n",
        "    :param cur_x:          The current x value, which can be provided with an initial value as an argument\n",
        "    :param learning_rate:  The learning rate is also equivalent to the set step size\n",
        "    :param precision:      Set the convergence precision\n",
        "    :param max_iters:      maximum number of iterations\n",
        "    :return:               local minimum x*\n",
        "    \"\"\"\n",
        "    for i in range(max_iters):\n",
        "        grad_cur = grad(cur_x)\n",
        "        if abs(grad_cur) < precision:\n",
        "            break  # When the gradient approaches 0, it is regarded as convergent\n",
        "        cur_x = cur_x - grad_cur * learning_rate\n",
        "        print(\"The\", i, \"iteration：x value is \", cur_x)\n",
        "    print(\" local minimum  x =\", cur_x)\n",
        "    return cur_x\n",
        "\n",
        "\n",
        "if __name__ == '__main__':\n",
        "    gradient_descent_1d(grad_1d, cur_x=10, learning_rate=0.2, precision=0.000001, max_iters=10000)"
      ],
      "metadata": {
        "colab": {
          "base_uri": "https://localhost:8080/",
          "height": 1000
        },
        "id": "5PRHmJBF4Ip7",
        "outputId": "2131237e-4f1e-4f28-b98d-9d630bf1dd23"
      },
      "execution_count": 21,
      "outputs": [
        {
          "output_type": "display_data",
          "data": {
            "text/plain": [
              "<Figure size 640x480 with 1 Axes>"
            ],
            "image/png": "[encoded data removed]"
          },
          "metadata": {}
        },
        {
          "output_type": "stream",
          "name": "stdout",
          "text": [
            "The 0 iteration：x value is  6.0\n",
            "The 1 iteration：x value is  3.5999999999999996\n",
            "The 2 iteration：x value is  2.1599999999999997\n",
            "The 3 iteration：x value is  1.2959999999999998\n",
            "The 4 iteration：x value is  0.7775999999999998\n",
            "The 5 iteration：x value is  0.46655999999999986\n",
            "The 6 iteration：x value is  0.2799359999999999\n",
            "The 7 iteration：x value is  0.16796159999999993\n",
            "The 8 iteration：x value is  0.10077695999999996\n",
            "The 9 iteration：x value is  0.06046617599999997\n",
            "The 10 iteration：x value is  0.036279705599999976\n",
            "The 11 iteration：x value is  0.021767823359999987\n",
            "The 12 iteration：x value is  0.013060694015999992\n",
            "The 13 iteration：x value is  0.007836416409599995\n",
            "The 14 iteration：x value is  0.004701849845759997\n",
            "The 15 iteration：x value is  0.002821109907455998\n",
            "The 16 iteration：x value is  0.0016926659444735988\n",
            "The 17 iteration：x value is  0.0010155995666841593\n",
            "The 18 iteration：x value is  0.0006093597400104956\n",
            "The 19 iteration：x value is  0.0003656158440062973\n",
            "The 20 iteration：x value is  0.0002193695064037784\n",
            "The 21 iteration：x value is  0.00013162170384226703\n",
            "The 22 iteration：x value is  7.897302230536021e-05\n",
            "The 23 iteration：x value is  4.7383813383216124e-05\n",
            "The 24 iteration：x value is  2.8430288029929674e-05\n",
            "The 25 iteration：x value is  1.7058172817957805e-05\n",
            "The 26 iteration：x value is  1.0234903690774682e-05\n",
            "The 27 iteration：x value is  6.1409422144648085e-06\n",
            "The 28 iteration：x value is  3.684565328678885e-06\n",
            "The 29 iteration：x value is  2.210739197207331e-06\n",
            "The 30 iteration：x value is  1.3264435183243986e-06\n",
            "The 31 iteration：x value is  7.958661109946391e-07\n",
            "The 32 iteration：x value is  4.775196665967835e-07\n",
            " local minimum  x = 4.775196665967835e-07\n"
          ]
        }
      ]
    }
  ]
}
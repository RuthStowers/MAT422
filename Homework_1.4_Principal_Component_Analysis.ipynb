{
  "nbformat": 4,
  "nbformat_minor": 0,
  "metadata": {
    "colab": {
      "provenance": [],
      "include_colab_link": true
    },
    "kernelspec": {
      "name": "python3",
      "display_name": "Python 3"
    },
    "language_info": {
      "name": "python"
    }
  },
  "cells": [
    {
      "cell_type": "markdown",
      "metadata": {
        "id": "view-in-github",
        "colab_type": "text"
      },
      "source": [
        "<a href=\"https://colab.research.google.com/github/RuthStowers/MAT422/blob/main/Homework_1.4_Principal_Component_Analysis.ipynb\" target=\"_parent\"><img src=\"https://colab.research.google.com/assets/colab-badge.svg\" alt=\"Open In Colab\"/></a>"
      ]
    },
    {
      "cell_type": "markdown",
      "metadata": {
        "id": "2t-xjML8ywT5"
      },
      "source": [
        "# 1.4.1 **Singular Value Decompostion**\n",
        "\n",
        "In linear algebra, the singular value decomposition (SVD) is a factorization of a real or complex matrix. An example is below."
      ]
    },
    {
      "cell_type": "code",
      "metadata": {
        "id": "CsrnDLZ5u2tG"
      },
      "source": [
        "import numpy as np\n",
        "from sklearn.datasets import load_digits\n",
        "from matplotlib import pyplot as plt\n",
        "from sklearn.decomposition import TruncatedSVD\n",
        "float_formatter = lambda x: \"%.2f\" % x\n",
        "np.set_printoptions(formatter={'float_kind':float_formatter})\n",
        "from sklearn.ensemble import RandomForestClassifier"
      ],
      "execution_count": 2,
      "outputs": []
    },
    {
      "cell_type": "code",
      "metadata": {
        "id": "EfW9FWlewXxG"
      },
      "source": [
        "X, y = load_digits(return_X_y=True)"
      ],
      "execution_count": 3,
      "outputs": []
    },
    {
      "cell_type": "markdown",
      "metadata": {
        "id": "CSennCSkykOU"
      },
      "source": [
        "The dataset contains 1797 8x8 images. If you specify return_X_y=True the function will return the pixels as a one dimensional array."
      ]
    },
    {
      "cell_type": "code",
      "metadata": {
        "colab": {
          "base_uri": "https://localhost:8080/"
        },
        "id": "WT7OhPykwche",
        "outputId": "6a41e3f1-d5d9-4560-c4d8-9b5d6260f2e3"
      },
      "source": [
        "X.shape"
      ],
      "execution_count": 4,
      "outputs": [
        {
          "output_type": "execute_result",
          "data": {
            "text/plain": [
              "(1797, 64)"
            ]
          },
          "metadata": {},
          "execution_count": 4
        }
      ]
    },
    {
      "cell_type": "code",
      "metadata": {
        "colab": {
          "base_uri": "https://localhost:8080/"
        },
        "id": "nQU37bZjwdGn",
        "outputId": "558cd7f8-0f43-47bc-b2b0-13554640e639"
      },
      "source": [
        "y"
      ],
      "execution_count": 5,
      "outputs": [
        {
          "output_type": "execute_result",
          "data": {
            "text/plain": [
              "array([0, 1, 2, ..., 8, 9, 8])"
            ]
          },
          "metadata": {},
          "execution_count": 5
        }
      ]
    },
    {
      "cell_type": "markdown",
      "metadata": {
        "id": "-bFh6khNyqaU"
      },
      "source": [
        "Let’s take a look at the first digit. As we can see, it’s simply an array of length 64 containing the pixel intensities."
      ]
    },
    {
      "cell_type": "code",
      "metadata": {
        "id": "89g83FiBwff7"
      },
      "source": [
        "image = X[0]"
      ],
      "execution_count": 6,
      "outputs": []
    },
    {
      "cell_type": "code",
      "metadata": {
        "colab": {
          "base_uri": "https://localhost:8080/",
          "height": 455
        },
        "id": "HI0fMExxwg-b",
        "outputId": "48ed1396-5e70-481e-dafd-31f99c293941"
      },
      "source": [
        "image = image.reshape((8, 8))\n",
        "plt.matshow(image, cmap = 'gray')"
      ],
      "execution_count": 8,
      "outputs": [
        {
          "output_type": "execute_result",
          "data": {
            "text/plain": [
              "<matplotlib.image.AxesImage at 0x7c57cb6184f0>"
            ]
          },
          "metadata": {},
          "execution_count": 8
        },
        {
          "output_type": "display_data",
          "data": {
            "text/plain": [
              "<Figure size 480x480 with 1 Axes>"
            ],
            "image/png": "[encoded data removed]"
          },
          "metadata": {}
        }
      ]
    },
    {
      "cell_type": "markdown",
      "metadata": {
        "id": "F_wQ3NvoytiM"
      },
      "source": [
        "Next, we’ll use Singular Value Decomposition to see whether we are able to reconstruct the image using only 2 features for each row. The s matrix returned by the function must be converted into a diagonal matrix using the diag method. By default, diag will create a matrix that is n x n, relative to the original matrix. This causes a problem as the size of the matrices no longer follow the rule of matrix multiplication where the number of columns in a matrix must match the number of rows in the other matrix. Therefore, we create a new m x n matrix and populate the first n x n part of it with the diagonal matrix."
      ]
    },
    {
      "cell_type": "code",
      "metadata": {
        "colab": {
          "base_uri": "https://localhost:8080/"
        },
        "id": "FjgIV6Vgwi1Z",
        "outputId": "5ed99005-0aa6-4b0e-cdf5-973138020b94"
      },
      "source": [
        "U, s, V = np.linalg.svd(image)\n",
        "S = np.zeros((image.shape[0], image.shape[1]))\n",
        "S[:image.shape[0], :image.shape[0]] = np.diag(s)\n",
        "n_component = 2\n",
        "S = S[:, :n_component]\n",
        "V = V[:n_component, :]\n",
        "A = U.dot(S.dot(V))\n",
        "print(A)"
      ],
      "execution_count": 9,
      "outputs": [
        {
          "output_type": "stream",
          "name": "stdout",
          "text": [
            "[[0.00 -1.10 4.74 12.16 9.52 2.44 -1.33 0.00]\n",
            " [0.00 1.81 15.31 13.79 11.23 12.27 4.48 0.00]\n",
            " [0.00 3.86 13.36 1.19 1.49 12.59 7.65 0.00]\n",
            " [0.00 3.39 10.76 -0.35 0.20 10.36 6.61 0.00]\n",
            " [0.00 3.11 9.52 -0.85 -0.24 9.26 6.04 0.00]\n",
            " [0.00 3.61 11.79 0.12 0.60 11.27 7.07 0.00]\n",
            " [0.00 2.08 12.63 8.58 7.13 10.60 4.66 0.00]\n",
            " [0.00 -1.18 4.88 12.71 9.96 2.47 -1.44 0.00]]\n"
          ]
        }
      ]
    },
    {
      "cell_type": "code",
      "metadata": {
        "colab": {
          "base_uri": "https://localhost:8080/",
          "height": 455
        },
        "id": "nvd7aQOmwksL",
        "outputId": "eeecb830-6bc0-4abe-840d-fc0c0ff9e5a3"
      },
      "source": [
        "plt.matshow(A, cmap = 'gray')"
      ],
      "execution_count": 10,
      "outputs": [
        {
          "output_type": "execute_result",
          "data": {
            "text/plain": [
              "<matplotlib.image.AxesImage at 0x7c57cb697af0>"
            ]
          },
          "metadata": {},
          "execution_count": 10
        },
        {
          "output_type": "display_data",
          "data": {
            "text/plain": [
              "<Figure size 480x480 with 1 Axes>"
            ],
            "image/png": "[encoded data removed]"
          },
          "metadata": {}
        }
      ]
    },
    {
      "cell_type": "markdown",
      "metadata": {
        "id": "KMDoaybsy9Gx"
      },
      "source": [
        "We can get the reduced feature space by taking the dot product of the U and S matrices."
      ]
    },
    {
      "cell_type": "code",
      "metadata": {
        "colab": {
          "base_uri": "https://localhost:8080/"
        },
        "id": "RiPKkQZFwmSg",
        "outputId": "cf444e15-a85c-4c6f-d901-1b033cec3a86"
      },
      "source": [
        "U.dot(S)"
      ],
      "execution_count": 11,
      "outputs": [
        {
          "output_type": "execute_result",
          "data": {
            "text/plain": [
              "array([[10.97, -12.23],\n",
              "       [26.04, -6.82],\n",
              "       [18.73, 7.95],\n",
              "       [14.60, 8.08],\n",
              "       [12.72, 7.84],\n",
              "       [16.19, 8.21],\n",
              "       [20.45, -2.05],\n",
              "       [11.36, -12.85]])"
            ]
          },
          "metadata": {},
          "execution_count": 11
        }
      ]
    },
    {
      "cell_type": "markdown",
      "metadata": {
        "id": "KtP8rQQ-8hio"
      },
      "source": [
        "#1.4.3 **Principal Component Analysis**\n",
        "\n",
        "Principal component analysis, or PCA, is a dimensionality reduction method that is often used to reduce the dimensionality of large data sets, by transforming a large set of variables into a smaller one that still contains most of the information in the large set. We see an example below."
      ]
    },
    {
      "cell_type": "code",
      "metadata": {
        "id": "oWczSab28hCZ"
      },
      "source": [
        "import pandas as pd\n",
        "url = \"https://archive.ics.uci.edu/ml/machine-learning-databases/iris/iris.data\"\n",
        "# load dataset into Pandas DataFrame\n",
        "df = pd.read_csv(url, names=['sepal length','sepal width','petal length','petal width','target'])\n",
        "from sklearn.preprocessing import StandardScaler\n",
        "features = ['sepal length', 'sepal width', 'petal length', 'petal width']\n",
        "# Separating out the features\n",
        "x = df.loc[:, features].values\n",
        "# Separating out the target\n",
        "y = df.loc[:,['target']].values\n",
        "# Standardizing the features\n",
        "x = StandardScaler().fit_transform(x)"
      ],
      "execution_count": 12,
      "outputs": []
    },
    {
      "cell_type": "code",
      "metadata": {
        "id": "lk3giDe38sly"
      },
      "source": [
        "from sklearn.decomposition import PCA\n",
        "pca = PCA(n_components=2)\n",
        "principalComponents = pca.fit_transform(x)\n",
        "principalDf = pd.DataFrame(data = principalComponents\n",
        "             , columns = ['principal component 1', 'principal component 2'])"
      ],
      "execution_count": 13,
      "outputs": []
    },
    {
      "cell_type": "code",
      "metadata": {
        "id": "dQSqSHHR8uEJ"
      },
      "source": [
        "finalDf = pd.concat([principalDf, df[['target']]], axis = 1)"
      ],
      "execution_count": 14,
      "outputs": []
    },
    {
      "cell_type": "code",
      "metadata": {
        "colab": {
          "base_uri": "https://localhost:8080/",
          "height": 566
        },
        "id": "hYQgNvUR8vk7",
        "outputId": "1f5cc4b4-ff98-428b-fcd5-6e365549c746"
      },
      "source": [
        "fig = plt.figure(figsize = (6,6))\n",
        "ax = fig.add_subplot(1,1,1)\n",
        "ax.set_xlabel('Principal Component 1', fontsize = 10)\n",
        "ax.set_ylabel('Principal Component 2', fontsize = 10)\n",
        "ax.set_title('2 component PCA', fontsize = 15)\n",
        "targets = ['Iris-setosa', 'Iris-versicolor', 'Iris-virginica']\n",
        "colors = ['r', 'g', 'b']\n",
        "for target, color in zip(targets,colors):\n",
        "    indicesToKeep = finalDf['target'] == target\n",
        "    ax.scatter(finalDf.loc[indicesToKeep, 'principal component 1']\n",
        "               , finalDf.loc[indicesToKeep, 'principal component 2']\n",
        "               , c = color\n",
        "               , s = 35)\n",
        "ax.legend(targets)\n",
        "ax.grid()"
      ],
      "execution_count": 17,
      "outputs": [
        {
          "output_type": "display_data",
          "data": {
            "text/plain": [
              "<Figure size 600x600 with 1 Axes>"
            ],
            "image/png": "[encoded data removed]"
          },
          "metadata": {}
        }
      ]
    }
  ]
}